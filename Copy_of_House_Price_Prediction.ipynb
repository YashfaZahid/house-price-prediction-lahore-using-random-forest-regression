{
  "cells": [
    {
      "cell_type": "code",
      "execution_count": null,
      "metadata": {
        "id": "FMHtUl_zEU-l"
      },
      "outputs": [],
      "source": [
        "#1\n",
        "import numpy as np\n",
        "import pandas as pd\n",
        "import matplotlib.pyplot as plt\n",
        "import seaborn as sns"
      ]
    },
    {
      "cell_type": "code",
      "execution_count": null,
      "metadata": {
        "colab": {
          "background_save": true
        },
        "id": "JqMCxQ4czjxi",
        "outputId": "67e239db-e5d3-4b99-cd1a-b25628a94bfc"
      },
      "outputs": [
        {
          "ename": "ValueError",
          "evalue": "mount failed",
          "output_type": "error",
          "traceback": [
            "\u001b[0;31m---------------------------------------------------------------------------\u001b[0m",
            "\u001b[0;31mValueError\u001b[0m                                Traceback (most recent call last)",
            "\u001b[0;32m<ipython-input-2-afa247c9071a>\u001b[0m in \u001b[0;36m<cell line: 0>\u001b[0;34m()\u001b[0m\n\u001b[1;32m      1\u001b[0m \u001b[0;32mfrom\u001b[0m \u001b[0mgoogle\u001b[0m\u001b[0;34m.\u001b[0m\u001b[0mcolab\u001b[0m \u001b[0;32mimport\u001b[0m \u001b[0mdrive\u001b[0m\u001b[0;34m\u001b[0m\u001b[0;34m\u001b[0m\u001b[0m\n\u001b[0;32m----> 2\u001b[0;31m \u001b[0mdrive\u001b[0m\u001b[0;34m.\u001b[0m\u001b[0mmount\u001b[0m\u001b[0;34m(\u001b[0m\u001b[0;34m'/content/drive'\u001b[0m\u001b[0;34m)\u001b[0m\u001b[0;34m\u001b[0m\u001b[0;34m\u001b[0m\u001b[0m\n\u001b[0m\u001b[1;32m      3\u001b[0m \u001b[0mget_ipython\u001b[0m\u001b[0;34m(\u001b[0m\u001b[0;34m)\u001b[0m\u001b[0;34m.\u001b[0m\u001b[0msystem\u001b[0m\u001b[0;34m(\u001b[0m\u001b[0;34m'cp \"/content/drive/MyDrive/ColabFiles/houseDataset2024.csv\"  /content/houseDataset2024.csv'\u001b[0m\u001b[0;34m)\u001b[0m\u001b[0;34m\u001b[0m\u001b[0;34m\u001b[0m\u001b[0m\n\u001b[1;32m      4\u001b[0m \u001b[0mget_ipython\u001b[0m\u001b[0;34m(\u001b[0m\u001b[0;34m)\u001b[0m\u001b[0;34m.\u001b[0m\u001b[0msystem\u001b[0m\u001b[0;34m(\u001b[0m\u001b[0;34m'cp -R \"/content/drive/MyDrive/ColabFiles/client\" /content/client'\u001b[0m\u001b[0;34m)\u001b[0m\u001b[0;34m\u001b[0m\u001b[0;34m\u001b[0m\u001b[0m\n",
            "\u001b[0;32m/usr/local/lib/python3.11/dist-packages/google/colab/drive.py\u001b[0m in \u001b[0;36mmount\u001b[0;34m(mountpoint, force_remount, timeout_ms, readonly)\u001b[0m\n\u001b[1;32m     98\u001b[0m \u001b[0;32mdef\u001b[0m \u001b[0mmount\u001b[0m\u001b[0;34m(\u001b[0m\u001b[0mmountpoint\u001b[0m\u001b[0;34m,\u001b[0m \u001b[0mforce_remount\u001b[0m\u001b[0;34m=\u001b[0m\u001b[0;32mFalse\u001b[0m\u001b[0;34m,\u001b[0m \u001b[0mtimeout_ms\u001b[0m\u001b[0;34m=\u001b[0m\u001b[0;36m120000\u001b[0m\u001b[0;34m,\u001b[0m \u001b[0mreadonly\u001b[0m\u001b[0;34m=\u001b[0m\u001b[0;32mFalse\u001b[0m\u001b[0;34m)\u001b[0m\u001b[0;34m:\u001b[0m\u001b[0;34m\u001b[0m\u001b[0;34m\u001b[0m\u001b[0m\n\u001b[1;32m     99\u001b[0m   \u001b[0;34m\"\"\"Mount your Google Drive at the specified mountpoint path.\"\"\"\u001b[0m\u001b[0;34m\u001b[0m\u001b[0;34m\u001b[0m\u001b[0m\n\u001b[0;32m--> 100\u001b[0;31m   return _mount(\n\u001b[0m\u001b[1;32m    101\u001b[0m       \u001b[0mmountpoint\u001b[0m\u001b[0;34m,\u001b[0m\u001b[0;34m\u001b[0m\u001b[0;34m\u001b[0m\u001b[0m\n\u001b[1;32m    102\u001b[0m       \u001b[0mforce_remount\u001b[0m\u001b[0;34m=\u001b[0m\u001b[0mforce_remount\u001b[0m\u001b[0;34m,\u001b[0m\u001b[0;34m\u001b[0m\u001b[0;34m\u001b[0m\u001b[0m\n",
            "\u001b[0;32m/usr/local/lib/python3.11/dist-packages/google/colab/drive.py\u001b[0m in \u001b[0;36m_mount\u001b[0;34m(mountpoint, force_remount, timeout_ms, ephemeral, readonly)\u001b[0m\n\u001b[1;32m    275\u001b[0m             \u001b[0;34m'https://research.google.com/colaboratory/faq.html#drive-timeout'\u001b[0m\u001b[0;34m\u001b[0m\u001b[0;34m\u001b[0m\u001b[0m\n\u001b[1;32m    276\u001b[0m         )\n\u001b[0;32m--> 277\u001b[0;31m       \u001b[0;32mraise\u001b[0m \u001b[0mValueError\u001b[0m\u001b[0;34m(\u001b[0m\u001b[0;34m'mount failed'\u001b[0m \u001b[0;34m+\u001b[0m \u001b[0mextra_reason\u001b[0m\u001b[0;34m)\u001b[0m\u001b[0;34m\u001b[0m\u001b[0;34m\u001b[0m\u001b[0m\n\u001b[0m\u001b[1;32m    278\u001b[0m     \u001b[0;32melif\u001b[0m \u001b[0mcase\u001b[0m \u001b[0;34m==\u001b[0m \u001b[0;36m4\u001b[0m\u001b[0;34m:\u001b[0m\u001b[0;34m\u001b[0m\u001b[0;34m\u001b[0m\u001b[0m\n\u001b[1;32m    279\u001b[0m       \u001b[0;31m# Terminate the DriveFS binary before killing bash.\u001b[0m\u001b[0;34m\u001b[0m\u001b[0;34m\u001b[0m\u001b[0m\n",
            "\u001b[0;31mValueError\u001b[0m: mount failed"
          ]
        }
      ],
      "source": [
        "from google.colab import drive\n",
        "drive.mount('/content/drive')\n",
        "!cp \"/content/drive/MyDrive/ColabFiles/houseDataset2024.csv\"  /content/houseDataset2024.csv\n",
        "!cp -R \"/content/drive/MyDrive/ColabFiles/client\" /content/client"
      ]
    },
    {
      "cell_type": "code",
      "execution_count": null,
      "metadata": {
        "colab": {
          "background_save": true
        },
        "id": "ntXl6orNF80P"
      },
      "outputs": [],
      "source": [
        "#2\n",
        "df=pd.read_csv(\"houseDataset2024.csv\")"
      ]
    },
    {
      "cell_type": "code",
      "execution_count": null,
      "metadata": {
        "colab": {
          "background_save": true
        },
        "collapsed": true,
        "id": "3oQ1nM8iit4r"
      },
      "outputs": [],
      "source": [
        "#3\n",
        "df.dropna(inplace=True)\n",
        "df.drop_duplicates(inplace=True)\n",
        "df.info()"
      ]
    },
    {
      "cell_type": "code",
      "execution_count": null,
      "metadata": {
        "colab": {
          "background_save": true
        },
        "collapsed": true,
        "id": "mjLjyGZrjgls"
      },
      "outputs": [],
      "source": [
        "#4\n",
        "df=df[df[\"type\"]==\"House\"]\n",
        "df.drop(columns=[\"url\",\"title\",\"area\",\"type\",\"area_sqm\",\"price_per_sqm\",\"date_added\",\"Latitude\",\"Longitude\"],inplace=True)\n",
        "df.info()"
      ]
    },
    {
      "cell_type": "code",
      "execution_count": null,
      "metadata": {
        "colab": {
          "background_save": true
        },
        "id": "nyggwAKEBQ3V"
      },
      "outputs": [],
      "source": [
        "#5\n",
        "df.groupby(\"city\")[\"city\"].agg('count')"
      ]
    },
    {
      "cell_type": "code",
      "execution_count": null,
      "metadata": {
        "colab": {
          "background_save": true
        },
        "id": "iN1nTMiECjHK"
      },
      "outputs": [],
      "source": [
        "#6\n",
        "df['bedrooms'] = df['bedrooms'].str.extract('(\\d+)').astype(int)\n",
        "df['baths'] = df['baths'].str.extract('(\\d+)').astype(int)"
      ]
    },
    {
      "cell_type": "code",
      "execution_count": null,
      "metadata": {
        "colab": {
          "background_save": true
        },
        "collapsed": true,
        "id": "wjf6tw76HTpO"
      },
      "outputs": [],
      "source": [
        "# Calculate the correlation matrix\n",
        "numeric_cols = df.select_dtypes(include=['float64', 'int64'])\n",
        "corr_matrix = numeric_cols.corr()\n",
        "\n",
        "# Plot the heatmap\n",
        "plt.figure(figsize=(10, 8))\n",
        "sns.heatmap(corr_matrix, annot=True, fmt=\".2f\", cmap='coolwarm', cbar=True)\n",
        "plt.title('Correlation Matrix of Numeric Variables')\n",
        "plt.show()"
      ]
    },
    {
      "cell_type": "code",
      "execution_count": null,
      "metadata": {
        "colab": {
          "background_save": true
        },
        "id": "6xbJ4af3KNto"
      },
      "outputs": [],
      "source": [
        "df.isnull().sum()"
      ]
    },
    {
      "cell_type": "code",
      "execution_count": null,
      "metadata": {
        "colab": {
          "background_save": true
        },
        "id": "cV_4ruHLQl2T"
      },
      "outputs": [],
      "source": [
        "#7\n",
        "df[\"city\"]=pd.factorize(df[\"city\"])[0]"
      ]
    },
    {
      "cell_type": "code",
      "execution_count": null,
      "metadata": {
        "colab": {
          "background_save": true
        },
        "id": "volN-jTxU8Eq"
      },
      "outputs": [],
      "source": [
        "df.tail()"
      ]
    },
    {
      "cell_type": "code",
      "execution_count": null,
      "metadata": {
        "colab": {
          "background_save": true
        },
        "id": "_6kWnCD2U-KS"
      },
      "outputs": [],
      "source": [
        "df[\"bedrooms\"].unique()"
      ]
    },
    {
      "cell_type": "code",
      "execution_count": null,
      "metadata": {
        "colab": {
          "background_save": true
        },
        "id": "8PSk0yrCV55j"
      },
      "outputs": [],
      "source": [
        "df[df.bedrooms>=6]"
      ]
    },
    {
      "cell_type": "code",
      "execution_count": null,
      "metadata": {
        "colab": {
          "background_save": true
        },
        "collapsed": true,
        "id": "ng_JiU4gWKu8"
      },
      "outputs": [],
      "source": [
        "df[\"area_sqft\"].unique()"
      ]
    },
    {
      "cell_type": "code",
      "execution_count": null,
      "metadata": {
        "colab": {
          "background_save": true
        },
        "id": "d1rKfJs0YXsq"
      },
      "outputs": [],
      "source": [
        "address_stats=df.groupby(\"address\")[\"address\"].agg('count').sort_values(ascending=False)\n",
        "len(df.address.unique())\n",
        "df.shape"
      ]
    },
    {
      "cell_type": "code",
      "execution_count": null,
      "metadata": {
        "colab": {
          "background_save": true
        },
        "id": "Qid6apfoZrlL"
      },
      "outputs": [],
      "source": [
        "len(address_stats[address_stats<=10])"
      ]
    },
    {
      "cell_type": "code",
      "execution_count": null,
      "metadata": {
        "colab": {
          "background_save": true
        },
        "id": "b_qNNn6HfwRn"
      },
      "outputs": [],
      "source": [
        "address_less_than_10 = address_stats[address_stats<=10]\n",
        "address_less_than_10"
      ]
    },
    {
      "cell_type": "code",
      "execution_count": null,
      "metadata": {
        "colab": {
          "background_save": true
        },
        "id": "fsTaV4LBgD7H"
      },
      "outputs": [],
      "source": [
        "# handle outliers\n",
        "df.address=df.address.apply(lambda x: \"other\" if x in address_less_than_10 else x)\n",
        "len(df.address.unique())\n"
      ]
    },
    {
      "cell_type": "code",
      "execution_count": null,
      "metadata": {
        "colab": {
          "background_save": true
        },
        "id": "KvgDbpyUgq2I"
      },
      "outputs": [],
      "source": [
        "# df=df.drop(df.index[47950])\n",
        "# df.tail()\n",
        "# df.shape"
      ]
    },
    {
      "cell_type": "code",
      "execution_count": null,
      "metadata": {
        "colab": {
          "background_save": true
        },
        "id": "L1R1nkCShLn-"
      },
      "outputs": [],
      "source": [
        "df1=df[~(df.area_sqft/df.bedrooms<300)]\n",
        "df1=df1[~df['price_per_sqft'].isin([float('inf'), float('-inf')])]\n",
        "df1.shape"
      ]
    },
    {
      "cell_type": "code",
      "execution_count": null,
      "metadata": {
        "colab": {
          "background_save": true
        },
        "id": "nTttvZJjhkek"
      },
      "outputs": [],
      "source": [
        "df1.info()"
      ]
    },
    {
      "cell_type": "code",
      "execution_count": null,
      "metadata": {
        "colab": {
          "background_save": true
        },
        "id": "QQuoH7RK8XAr"
      },
      "outputs": [],
      "source": [
        "df1.head()"
      ]
    },
    {
      "cell_type": "code",
      "execution_count": null,
      "metadata": {
        "colab": {
          "background_save": true
        },
        "id": "vzzK1q-sqok0"
      },
      "outputs": [],
      "source": [
        "df.price.describe()"
      ]
    },
    {
      "cell_type": "code",
      "execution_count": null,
      "metadata": {
        "colab": {
          "background_save": true
        },
        "id": "WqFdYLf4rL2v"
      },
      "outputs": [],
      "source": [
        "def remove_pps_outliers(df):\n",
        "  df_out=pd.DataFrame()\n",
        "  for key,subdf in df.groupby(\"address\"):\n",
        "    m=np.mean(subdf.price_per_sqft)\n",
        "    st=np.std(subdf.price_per_sqft)\n",
        "    reduced_df=subdf[(subdf.price_per_sqft>(m-st)) & (subdf.price_per_sqft<=(m+st))]\n",
        "    df_out=pd.concat([df_out,reduced_df],ignore_index=True)\n",
        "  return df_out\n",
        "\n",
        "df2=remove_pps_outliers(df1)\n",
        "df2.shape"
      ]
    },
    {
      "cell_type": "code",
      "execution_count": null,
      "metadata": {
        "colab": {
          "background_save": true
        },
        "id": "0z5Gr4WqbB6n"
      },
      "outputs": [],
      "source": [
        "from google.colab import drive\n",
        "drive.mount('drive')"
      ]
    },
    {
      "cell_type": "code",
      "execution_count": null,
      "metadata": {
        "colab": {
          "background_save": true
        },
        "id": "0ue1TP88cOEK"
      },
      "outputs": [],
      "source": []
    },
    {
      "cell_type": "code",
      "execution_count": null,
      "metadata": {
        "colab": {
          "background_save": true
        },
        "id": "5Te7Bmvtcy0B"
      },
      "outputs": [],
      "source": [
        "df2=df2[df2.bedrooms!=0]\n",
        "df2=df2[df2.baths!=0]\n",
        "df2.shape"
      ]
    },
    {
      "cell_type": "code",
      "execution_count": null,
      "metadata": {
        "colab": {
          "background_save": true
        },
        "id": "IPeXIBjeghns"
      },
      "outputs": [],
      "source": [
        "df2.to_csv('data.csv')\n",
        "!cp data.csv \"drive/My Drive/\""
      ]
    },
    {
      "cell_type": "code",
      "execution_count": null,
      "metadata": {
        "colab": {
          "background_save": true
        },
        "id": "lwWF-ScnmtgW"
      },
      "outputs": [],
      "source": [
        "df2.shape"
      ]
    },
    {
      "cell_type": "code",
      "execution_count": null,
      "metadata": {
        "colab": {
          "background_save": true
        },
        "id": "0_DqX4a7muy6"
      },
      "outputs": [],
      "source": [
        "df2.columns = df2.columns.str.lower()\n",
        "df2['address'] = df2['address'].str.lower()\n",
        "dummies=pd.get_dummies(df2.address)\n",
        "dummies.head()\n"
      ]
    },
    {
      "cell_type": "code",
      "execution_count": null,
      "metadata": {
        "colab": {
          "background_save": true
        },
        "id": "WLh4gYXSnX1C"
      },
      "outputs": [],
      "source": [
        "df2.info()"
      ]
    },
    {
      "cell_type": "code",
      "execution_count": null,
      "metadata": {
        "colab": {
          "background_save": true
        },
        "id": "IPncgTbyqgWp"
      },
      "outputs": [],
      "source": [
        "df3=pd.concat([df2,dummies],axis='columns')\n",
        "\n",
        "df3.head()"
      ]
    },
    {
      "cell_type": "code",
      "execution_count": null,
      "metadata": {
        "colab": {
          "background_save": true
        },
        "collapsed": true,
        "id": "91RpE2QPxUz_"
      },
      "outputs": [],
      "source": [
        "df3.drop(columns=['address','price_per_sqft','city'],inplace=True)\n",
        "df3.head()"
      ]
    },
    {
      "cell_type": "code",
      "execution_count": null,
      "metadata": {
        "colab": {
          "background_save": true
        },
        "id": "G5K7ItzBytwu"
      },
      "outputs": [],
      "source": [
        "df3.to_csv('data1.csv')\n",
        "!cp data.csv \"drive/My Drive/\""
      ]
    },
    {
      "cell_type": "code",
      "execution_count": null,
      "metadata": {
        "colab": {
          "background_save": true
        },
        "id": "f9tw5g07zw-G"
      },
      "outputs": [],
      "source": [
        "# threshold = df3['price'].quantile(0.90)\n",
        "# df3 = df3[df3['price'] <= threshold]\n",
        "# df3.shape"
      ]
    },
    {
      "cell_type": "code",
      "execution_count": null,
      "metadata": {
        "colab": {
          "background_save": true
        },
        "id": "n0hEDEOJ0XON"
      },
      "outputs": [],
      "source": [
        "x=df3.drop('price',axis='columns')\n",
        "x.head()"
      ]
    },
    {
      "cell_type": "code",
      "execution_count": null,
      "metadata": {
        "colab": {
          "background_save": true
        },
        "id": "1IiL4WB50mM1"
      },
      "outputs": [],
      "source": [
        "y=df3.price\n",
        "y.head()"
      ]
    },
    {
      "cell_type": "code",
      "execution_count": null,
      "metadata": {
        "colab": {
          "background_save": true
        },
        "id": "RC0Q-RsH6tYV"
      },
      "outputs": [],
      "source": []
    },
    {
      "cell_type": "code",
      "execution_count": null,
      "metadata": {
        "colab": {
          "background_save": true
        },
        "id": "TNZc4icl0xt9"
      },
      "outputs": [],
      "source": [
        "from sklearn.model_selection import train_test_split\n",
        "x_train,x_test,y_train,y_test=train_test_split(x,y,test_size=0.2,random_state=42)"
      ]
    },
    {
      "cell_type": "code",
      "execution_count": null,
      "metadata": {
        "colab": {
          "background_save": true
        },
        "id": "bF46Olhh1g9N"
      },
      "outputs": [],
      "source": [
        "from sklearn.linear_model import LinearRegression\n",
        "lr_clf=LinearRegression()\n",
        "lr_clf.fit(x_train,y_train)\n",
        "lr_clf.score(x_test,y_test)"
      ]
    },
    {
      "cell_type": "code",
      "execution_count": null,
      "metadata": {
        "colab": {
          "background_save": true
        },
        "id": "IKWMdmiu8e0O"
      },
      "outputs": [],
      "source": [
        "from sklearn.ensemble import RandomForestRegressor\n",
        "model = RandomForestRegressor()\n",
        "model.fit(x_train, y_train)\n",
        "print(model.score(x_test, y_test))"
      ]
    },
    {
      "cell_type": "code",
      "execution_count": null,
      "metadata": {
        "colab": {
          "background_save": true
        },
        "id": "3SUghZYhAFdL"
      },
      "outputs": [],
      "source": [
        "from sklearn.ensemble import RandomForestRegressor\n",
        "from sklearn.metrics import r2_score\n",
        "\n",
        "# # Train model\n",
        "# rf = RandomForestRegressor(n_estimators=100, random_state=42)\n",
        "# rf.fit(x_train, y_train)\n",
        "\n",
        "# # Predictions\n",
        "# y_train_pred = rf.predict(x_train)\n",
        "# y_test_pred = rf.predict(x_test)\n",
        "\n",
        "# Evaluate model\n",
        "train_r2 = r2_score(y_train, y_train_pred)\n",
        "test_r2 = r2_score(y_test, y_test_pred)\n",
        "\n",
        "print(f\"Train R²: {train_r2:.4f}\")\n",
        "print(f\"Test R²: {test_r2:.4f}\")\n"
      ]
    },
    {
      "cell_type": "code",
      "execution_count": null,
      "metadata": {
        "colab": {
          "background_save": true
        },
        "id": "ipRdBQIfDzEg"
      },
      "outputs": [],
      "source": [
        "x.columns"
      ]
    },
    {
      "cell_type": "code",
      "execution_count": null,
      "metadata": {
        "colab": {
          "background_save": true
        },
        "id": "aQqgx5YJDcXr"
      },
      "outputs": [],
      "source": [
        "def predict_price(location,bedroom,bath,sqft):\n",
        "  loc_index=np.where(x.columns==location)[0][0]\n",
        "  X=np.zeros(len(x.columns))\n",
        "  X[0]=bedroom\n",
        "  X[1]=bath\n",
        "  X[2]=sqft\n",
        "  if loc_index>=0:\n",
        "    X[loc_index]=1\n",
        "  return model.predict([X])[0]"
      ]
    },
    {
      "cell_type": "code",
      "execution_count": null,
      "metadata": {
        "colab": {
          "background_save": true
        },
        "id": "CbnwUW0PEwtI"
      },
      "outputs": [],
      "source": [
        "predict_price(\"wazir town, rawalpindi, punjab\",5,3,1500 )"
      ]
    },
    {
      "cell_type": "code",
      "execution_count": null,
      "metadata": {
        "colab": {
          "background_save": true
        },
        "id": "aMqdtBTHFBAX"
      },
      "outputs": [],
      "source": [
        "import pickle\n",
        "with open(\"real_estate_model.pickle\",\"wb\")as f:\n",
        "  pickle.dump(model,f)"
      ]
    },
    {
      "cell_type": "code",
      "execution_count": null,
      "metadata": {
        "colab": {
          "background_save": true
        },
        "id": "1PQMvCvVs-Rz"
      },
      "outputs": [],
      "source": [
        "# from google.colab import files\n",
        "# files.download('real_estate_model.pickle')\n"
      ]
    },
    {
      "cell_type": "code",
      "execution_count": null,
      "metadata": {
        "colab": {
          "background_save": true
        },
        "id": "Kx-DhmtatB95"
      },
      "outputs": [],
      "source": [
        "import json\n",
        "columns={\n",
        "    'data_columns': [col.lower() for col in x.columns]\n",
        "}\n",
        "with open (\"columns.json\",\"w\")as f:\n",
        "  f.write(json.dumps(columns))"
      ]
    },
    {
      "cell_type": "code",
      "execution_count": null,
      "metadata": {
        "colab": {
          "background_save": true
        },
        "id": "sc-02KgnuC6N"
      },
      "outputs": [],
      "source": []
    },
    {
      "cell_type": "code",
      "execution_count": null,
      "metadata": {
        "colab": {
          "background_save": true
        },
        "id": "woyxLJD9ig90"
      },
      "outputs": [],
      "source": [
        "!curl -sSL https://ngrok-agent.s3.amazonaws.com/ngrok.asc \\\n",
        "  | sudo tee /etc/apt/trusted.gpg.d/ngrok.asc >/dev/null \\\n",
        "  && echo \"deb https://ngrok-agent.s3.amazonaws.com buster main\" \\\n",
        "  | sudo tee /etc/apt/sources.list.d/ngrok.list \\\n",
        "  && sudo apt update \\\n",
        "  && sudo apt install ngrok\n",
        "!pip install pyngrok\n",
        "!ngrok authtoken \"2lCxGRma31qgLuD18mSmBYdkPxm_5D4H1PK1fex6AnoGYc7kA\""
      ]
    },
    {
      "cell_type": "code",
      "execution_count": null,
      "metadata": {
        "colab": {
          "background_save": true
        },
        "id": "5odOc1yIs4fB"
      },
      "outputs": [],
      "source": [
        "import pickle\n",
        "import json\n",
        "import numpy as np\n",
        "from pyngrok import ngrok\n",
        "\n",
        "\n",
        "\n",
        "__locations = None\n",
        "__data_columns = None\n",
        "__model = None\n",
        "\n",
        "def load_saved_artifacts():\n",
        "    print(\"loading saved artifacts...start\")\n",
        "    global  __data_columns\n",
        "    global __locations\n",
        "\n",
        "    with open(\"columns.json\", \"r\") as f:\n",
        "        __data_columns = json.load(f)['data_columns']\n",
        "        __locations = __data_columns[3:]\n",
        "\n",
        "    global __model\n",
        "    if __model is None:\n",
        "        with open('real_estate_model.pickle', 'rb') as f:\n",
        "\n",
        "            __model = pickle.load(f)\n",
        "    print(\"loading saved artifacts...done\")\n",
        "\n",
        "def get_location_names():\n",
        "    print(\"Locations loaded:\", __locations)\n",
        "    return __locations\n",
        "\n",
        "def get_data_columns():\n",
        "    return __data_columns\n",
        "\n",
        "\n",
        "if __name__ == '__main__':\n",
        "    load_saved_artifacts()\n",
        "    # print(get_location_names())\n",
        "    # print(get_estimated_price(\"bahria town, lahore, punjab\",2500,4,4))\n"
      ]
    },
    {
      "cell_type": "code",
      "execution_count": null,
      "metadata": {
        "colab": {
          "background_save": true
        },
        "id": "ta42TA9DpgN0",
        "outputId": "18965477-fbed-436d-c6ad-2ab2ccd4fd96"
      },
      "outputs": [
        {
          "name": "stdout",
          "output_type": "stream",
          "text": [
            "Requirement already satisfied: flask_ngrok in /usr/local/lib/python3.11/dist-packages (0.0.25)\n",
            "Requirement already satisfied: Flask>=0.8 in /usr/local/lib/python3.11/dist-packages (from flask_ngrok) (3.1.0)\n",
            "Requirement already satisfied: requests in /usr/local/lib/python3.11/dist-packages (from flask_ngrok) (2.32.3)\n",
            "Requirement already satisfied: Werkzeug>=3.1 in /usr/local/lib/python3.11/dist-packages (from Flask>=0.8->flask_ngrok) (3.1.3)\n",
            "Requirement already satisfied: Jinja2>=3.1.2 in /usr/local/lib/python3.11/dist-packages (from Flask>=0.8->flask_ngrok) (3.1.6)\n",
            "Requirement already satisfied: itsdangerous>=2.2 in /usr/local/lib/python3.11/dist-packages (from Flask>=0.8->flask_ngrok) (2.2.0)\n",
            "Requirement already satisfied: click>=8.1.3 in /usr/local/lib/python3.11/dist-packages (from Flask>=0.8->flask_ngrok) (8.1.8)\n",
            "Requirement already satisfied: blinker>=1.9 in /usr/local/lib/python3.11/dist-packages (from Flask>=0.8->flask_ngrok) (1.9.0)\n",
            "Requirement already satisfied: charset-normalizer<4,>=2 in /usr/local/lib/python3.11/dist-packages (from requests->flask_ngrok) (3.4.1)\n",
            "Requirement already satisfied: idna<4,>=2.5 in /usr/local/lib/python3.11/dist-packages (from requests->flask_ngrok) (3.10)\n",
            "Requirement already satisfied: urllib3<3,>=1.21.1 in /usr/local/lib/python3.11/dist-packages (from requests->flask_ngrok) (2.3.0)\n",
            "Requirement already satisfied: certifi>=2017.4.17 in /usr/local/lib/python3.11/dist-packages (from requests->flask_ngrok) (2025.1.31)\n",
            "Requirement already satisfied: MarkupSafe>=2.0 in /usr/local/lib/python3.11/dist-packages (from Jinja2>=3.1.2->Flask>=0.8->flask_ngrok) (3.0.2)\n",
            " * ngrok tunnel \"https://1f3f-34-80-147-247.ngrok-free.app\" -> \"http://127.0.0.1:5000\"\n",
            "Starting Python Flask Server For Home Price Prediction...\n",
            "loading saved artifacts...start\n",
            "loading saved artifacts...done\n",
            " * Serving Flask app '__main__'\n",
            " * Debug mode: off\n"
          ]
        },
        {
          "name": "stderr",
          "output_type": "stream",
          "text": [
            "INFO:werkzeug:\u001b[31m\u001b[1mWARNING: This is a development server. Do not use it in a production deployment. Use a production WSGI server instead.\u001b[0m\n",
            " * Running on http://127.0.0.1:5000\n",
            "INFO:werkzeug:\u001b[33mPress CTRL+C to quit\u001b[0m\n",
            "INFO:werkzeug:127.0.0.1 - - [15/Apr/2025 05:00:41] \"GET / HTTP/1.1\" 200 -\n",
            "INFO:werkzeug:127.0.0.1 - - [15/Apr/2025 05:00:42] \"GET /app.js HTTP/1.1\" 200 -\n",
            "INFO:werkzeug:127.0.0.1 - - [15/Apr/2025 05:00:42] \"GET /app.css HTTP/1.1\" 200 -\n",
            "INFO:werkzeug:127.0.0.1 - - [15/Apr/2025 05:00:43] \"GET /get_location_names HTTP/1.1\" 200 -\n",
            "INFO:werkzeug:127.0.0.1 - - [15/Apr/2025 05:00:43] \"\u001b[33mGET /favicon.ico HTTP/1.1\u001b[0m\" 404 -\n"
          ]
        },
        {
          "name": "stdout",
          "output_type": "stream",
          "text": [
            "Locations loaded: ['abdalians cooperative housing society, lahore, punjab', 'adiala road, rawalpindi, punjab', 'afshan colony, rawalpindi, punjab', 'airport enclave, islamabad, islamabad capital', 'airport housing society, rawalpindi, punjab', 'airport road, lahore, punjab', 'al jalil garden, lahore, punjab', 'al noor garden, faisalabad, punjab', 'al razzaq royals, sahiwal, punjab', 'al rehman garden, lahore, punjab', 'alfalah town, lahore, punjab', 'allama iqbal town, lahore, punjab', 'architects engineers housing society, lahore, punjab', 'askari 10, rawalpindi, punjab', 'askari 13, rawalpindi, punjab', 'askari 14, rawalpindi, punjab', 'askari 6, peshawar, khyber pakhtunkhwa', 'askari bypass, multan, punjab', 'askari, lahore, punjab', 'audit & accounts housing society, lahore, punjab', 'b-17, islamabad, islamabad capital', 'bahadurpur, multan, punjab', 'bahria nasheman, lahore, punjab', 'bahria orchard, lahore, punjab', 'bahria town rawalpindi, rawalpindi, punjab', 'bahria town, islamabad, islamabad capital', 'bahria town, lahore, punjab', 'bani gala, islamabad, islamabad capital', 'bankers avenue cooperative housing society, lahore, punjab', 'bankers co-operative housing society, lahore, punjab', 'beacon house society, lahore, punjab', 'bedian road, lahore, punjab', 'bhara kahu, islamabad, islamabad capital', 'bosan road, multan, punjab', 'buch executive villas, multan, punjab', 'c-18, islamabad, islamabad capital', 'caltex road, rawalpindi, punjab', 'canal bank housing scheme, lahore, punjab', 'canal garden, lahore, punjab', 'canal road, faisalabad, punjab', 'canal road, rahim yar khan, punjab', 'canal view housing scheme, gujranwala, punjab', 'cantt, lahore, punjab', 'cavalry extension, lahore, punjab', 'cavalry ground, lahore, punjab', 'cbr town, islamabad, islamabad capital', 'central park housing scheme, lahore, punjab', 'chaklala scheme, rawalpindi, punjab', 'chakri road, rawalpindi, punjab', 'chatha bakhtawar, islamabad, islamabad capital', 'chinar bagh, lahore, punjab', 'chungi amar sadhu, lahore, punjab', 'citi housing scheme, jhelum, punjab', 'citi housing society, gujranwala, punjab', 'citi housing, faisalabad, punjab', 'citi housing, multan, punjab', 'college road, lahore, punjab', 'd-12, islamabad, islamabad capital', 'd-17, islamabad, islamabad capital', 'dc colony, gujranwala, punjab', 'defence road, lahore, punjab', 'defence road, rawalpindi, punjab', 'dha 11 rahbar, lahore, punjab', 'dha defence, bahawalpur, punjab', 'dha defence, gujranwala, punjab', 'dha defence, islamabad, islamabad capital', 'dha defence, lahore, punjab', 'dha defence, multan, punjab', 'dha defence, peshawar, khyber pakhtunkhwa', 'dhamyal road, rawalpindi, punjab', 'divine gardens, lahore, punjab', 'dream avenue lahore, lahore, punjab', 'e-11, islamabad, islamabad capital', 'e-16, islamabad, islamabad capital', 'e-18, islamabad, islamabad capital', 'e-7, islamabad, islamabad capital', 'eden gardens, faisalabad, punjab', 'eden orchard, faisalabad, punjab', 'eden valley, faisalabad, punjab', 'eden, lahore, punjab', 'emaar canyon views, islamabad, islamabad capital', 'eme society, lahore, punjab', 'eminabad more, gujranwala, punjab', 'f-10, islamabad, islamabad capital', 'f-11, islamabad, islamabad capital', 'f-15, islamabad, islamabad capital', 'f-17, islamabad, islamabad capital', 'f-6, islamabad, islamabad capital', 'f-7, islamabad, islamabad capital', 'f-8, islamabad, islamabad capital', 'faisal colony, rawalpindi, punjab', 'faisal town - f-18, islamabad, islamabad capital', 'faisal town, lahore, punjab', 'farid town, sahiwal, punjab', 'fazaia housing scheme, lahore, punjab', 'fechs, islamabad, islamabad capital', 'ferozepur road, lahore, punjab', 'formanites housing scheme, lahore, punjab', 'four season housing, faisalabad, punjab', 'g-10, islamabad, islamabad capital', 'g-11, islamabad, islamabad capital', 'g-13, islamabad, islamabad capital', 'g-14, islamabad, islamabad capital', 'g-15, islamabad, islamabad capital', 'g-16, islamabad, islamabad capital', 'g-6, islamabad, islamabad capital', 'g-7, islamabad, islamabad capital', 'g-8, islamabad, islamabad capital', 'g-9, islamabad, islamabad capital', 'garden town, gujranwala, punjab', 'garden town, lahore, punjab', 'garden town, multan, punjab', 'ghalib city, faisalabad, punjab', 'ghauri town, islamabad, islamabad capital', 'ghous garden, lahore, punjab', 'green city, lahore, punjab', 'green town, faisalabad, punjab', 'gt road, gujrat, punjab', 'gt road, lahore, punjab', 'gulberg, islamabad, islamabad capital', 'gulberg, lahore, punjab', 'gulgasht colony, multan, punjab', 'gulistan colony, rawalpindi, punjab', 'gulraiz housing scheme, rawalpindi, punjab', 'gulshan abad, rawalpindi, punjab', 'gulshan-e-iqbal, rawalpindi, punjab', 'gulshan-e-lahore, lahore, punjab', 'gulshan-e-ravi, lahore, punjab', 'h-13, islamabad, islamabad capital', 'habibullah colony, abbottabad, khyber pakhtunkhwa', 'hamza town, lahore, punjab', 'harbanspura, lahore, punjab', 'hayatabad, peshawar, khyber pakhtunkhwa', 'hbfc housing society, lahore, punjab', 'i-10, islamabad, islamabad capital', 'i-11, islamabad, islamabad capital', 'i-14, islamabad, islamabad capital', 'i-8, islamabad, islamabad capital', 'i-9, islamabad, islamabad capital', 'ibl housing scheme, lahore, punjab', 'iep engineers town, lahore, punjab', 'islamabad highway, rawalpindi, punjab', 'izmir town, lahore, punjab', 'jaranwala road, faisalabad, punjab', 'jeewan city housing scheme, sahiwal, punjab', 'jhangi wala road, bahawalpur, punjab', 'jinnahabad, abbottabad, khyber pakhtunkhwa', 'johar town, lahore, punjab', 'jubilee town, lahore, punjab', 'judicial colony, lahore, punjab', 'kahna, lahore, punjab', 'kashmir highway, islamabad, islamabad capital', 'kda scheme 1, karachi, sindh', 'khan village, multan, punjab', 'khanna pul, islamabad, islamabad capital', 'khayaban colony 2, faisalabad, punjab', 'khayaban gardens, faisalabad, punjab', 'khayaban-e-amin, lahore, punjab', 'korang town, islamabad, islamabad capital', 'kuri road, islamabad, islamabad capital', 'lahore - islamabad motorway, lahore, punjab', 'lahore medical housing society, lahore, punjab', 'lahore motorway city, lahore, punjab', 'lalazaar garden, lahore, punjab', 'lalazar 2, rawalpindi, punjab', 'lda avenue, lahore, punjab', 'lehtarar road, islamabad, islamabad capital', 'lower canal road, faisalabad, punjab', 'madina town, faisalabad, punjab', 'main canal bank road, lahore, punjab', 'main mansehra road, abbottabad, khyber pakhtunkhwa', 'marghzar officers colony, lahore, punjab', 'master city housing scheme, gujranwala, punjab', 'media town, rawalpindi, punjab', 'military accounts housing society, lahore, punjab', 'millat road, faisalabad, punjab', 'misryal road, rawalpindi, punjab', 'model town, lahore, punjab', 'model town, multan, punjab', 'multan public school road, multan, punjab', 'multan road, lahore, punjab', 'mumtaz city, islamabad, islamabad capital', 'murree expressway, murree, punjab', 'nasheman colony, multan, punjab', 'nasheman-e-iqbal, lahore, punjab', 'national police foundation o-9, islamabad, islamabad capital', 'naval anchorage, islamabad, islamabad capital', 'nawab town, lahore, punjab', 'new lahore city, lahore, punjab', 'new lalazar, rawalpindi, punjab', 'new shalimar colony, multan, punjab', 'new super town, lahore, punjab', 'nfc 1, lahore, punjab', 'north nazimabad, karachi, sindh', 'northern bypass, multan, punjab', 'opf housing scheme, lahore, punjab', 'other', 'pak arab housing society, lahore, punjab', 'pakistan town, islamabad, islamabad capital', 'palm city housing scheme, gujranwala, punjab', 'paragon city, lahore, punjab', 'park avenue housing scheme, lahore, punjab', 'park view city, islamabad, islamabad capital', 'park view city, lahore, punjab', 'pcsir housing scheme, lahore, punjab', 'peshawar road, rawalpindi, punjab', 'pia housing scheme, lahore, punjab', 'pine avenue, lahore, punjab', 'punjab coop housing society, lahore, punjab', 'punjab government servant housing foundation (pgshf), rawalpindi, punjab', 'punjab govt employees society, lahore, punjab', 'punjab govt servants housing foundation, faisalabad, punjab', 'punjab small industries colony, lahore, punjab', 'punjab university employees society, lahore, punjab', 'purana shujabad road, multan, punjab', 'pwd housing scheme, islamabad, islamabad capital', 'raiwind road, lahore, punjab', 'range road, rawalpindi, punjab', 'regi model town, peshawar, khyber pakhtunkhwa', 'rehan garden, lahore, punjab', 'revenue society, lahore, punjab', 'sabzazar scheme, lahore, punjab', 'saeed colony, faisalabad, punjab', 'samanabad, lahore, punjab', 'samarzar housing society, rawalpindi, punjab', 'samundari road, faisalabad, punjab', 'satellite town, rawalpindi, punjab', 'satiana road, faisalabad, punjab', 'shadab garden, lahore, punjab', 'shadman colony, gujrat, punjab', 'shah allah ditta, islamabad, islamabad capital', 'shah rukn-e-alam colony, multan, punjab', 'shalimar colony, multan, punjab', 'shalley valley, rawalpindi, punjab', 'sheraz town, lahore, punjab', 'sialkot bypass, gujranwala, punjab', 'soan garden, islamabad, islamabad capital', 'state life housing society, lahore, punjab', 'sui gas housing society, lahore, punjab', 'taj bagh scheme, lahore, punjab', 'taj residencia, rawalpindi, punjab', 'tajpura, lahore, punjab', 'taramrri, islamabad, islamabad capital', 'tariq gardens, lahore, punjab', 'tarnol, islamabad, islamabad capital', 'thokar niaz baig, lahore, punjab', 'tip housing society, lahore, punjab', 'top city 1, islamabad, islamabad capital', 'township, lahore, punjab', 'uet housing society, lahore, punjab', 'university town, islamabad, islamabad capital', 'valencia housing society, lahore, punjab', 'venus housing scheme, lahore, punjab', 'vital homes housing scheme, lahore, punjab', 'walton road, lahore, punjab', 'wapda city, faisalabad, punjab', 'wapda town, gujranwala, punjab', 'wapda town, lahore, punjab', 'wapda town, multan, punjab', 'warsak road, peshawar, khyber pakhtunkhwa', 'wazir town, rawalpindi, punjab', 'westridge, rawalpindi, punjab', 'zakariya town, multan, punjab', 'zaraj housing scheme, islamabad, islamabad capital']\n"
          ]
        },
        {
          "name": "stderr",
          "output_type": "stream",
          "text": [
            "/usr/local/lib/python3.11/dist-packages/sklearn/utils/validation.py:2739: UserWarning: X does not have valid feature names, but RandomForestRegressor was fitted with feature names\n",
            "  warnings.warn(\n",
            "INFO:werkzeug:127.0.0.1 - - [15/Apr/2025 05:00:50] \"POST /predict_home_price HTTP/1.1\" 200 -\n",
            "INFO:werkzeug:127.0.0.1 - - [15/Apr/2025 05:01:50] \"\u001b[36mGET / HTTP/1.1\u001b[0m\" 304 -\n",
            "INFO:werkzeug:127.0.0.1 - - [15/Apr/2025 05:01:51] \"GET /app.css HTTP/1.1\" 200 -\n",
            "INFO:werkzeug:127.0.0.1 - - [15/Apr/2025 05:01:51] \"\u001b[36mGET /app.js HTTP/1.1\u001b[0m\" 304 -\n",
            "INFO:werkzeug:127.0.0.1 - - [15/Apr/2025 05:01:52] \"GET /get_location_names HTTP/1.1\" 200 -\n"
          ]
        },
        {
          "name": "stdout",
          "output_type": "stream",
          "text": [
            "Locations loaded: ['abdalians cooperative housing society, lahore, punjab', 'adiala road, rawalpindi, punjab', 'afshan colony, rawalpindi, punjab', 'airport enclave, islamabad, islamabad capital', 'airport housing society, rawalpindi, punjab', 'airport road, lahore, punjab', 'al jalil garden, lahore, punjab', 'al noor garden, faisalabad, punjab', 'al razzaq royals, sahiwal, punjab', 'al rehman garden, lahore, punjab', 'alfalah town, lahore, punjab', 'allama iqbal town, lahore, punjab', 'architects engineers housing society, lahore, punjab', 'askari 10, rawalpindi, punjab', 'askari 13, rawalpindi, punjab', 'askari 14, rawalpindi, punjab', 'askari 6, peshawar, khyber pakhtunkhwa', 'askari bypass, multan, punjab', 'askari, lahore, punjab', 'audit & accounts housing society, lahore, punjab', 'b-17, islamabad, islamabad capital', 'bahadurpur, multan, punjab', 'bahria nasheman, lahore, punjab', 'bahria orchard, lahore, punjab', 'bahria town rawalpindi, rawalpindi, punjab', 'bahria town, islamabad, islamabad capital', 'bahria town, lahore, punjab', 'bani gala, islamabad, islamabad capital', 'bankers avenue cooperative housing society, lahore, punjab', 'bankers co-operative housing society, lahore, punjab', 'beacon house society, lahore, punjab', 'bedian road, lahore, punjab', 'bhara kahu, islamabad, islamabad capital', 'bosan road, multan, punjab', 'buch executive villas, multan, punjab', 'c-18, islamabad, islamabad capital', 'caltex road, rawalpindi, punjab', 'canal bank housing scheme, lahore, punjab', 'canal garden, lahore, punjab', 'canal road, faisalabad, punjab', 'canal road, rahim yar khan, punjab', 'canal view housing scheme, gujranwala, punjab', 'cantt, lahore, punjab', 'cavalry extension, lahore, punjab', 'cavalry ground, lahore, punjab', 'cbr town, islamabad, islamabad capital', 'central park housing scheme, lahore, punjab', 'chaklala scheme, rawalpindi, punjab', 'chakri road, rawalpindi, punjab', 'chatha bakhtawar, islamabad, islamabad capital', 'chinar bagh, lahore, punjab', 'chungi amar sadhu, lahore, punjab', 'citi housing scheme, jhelum, punjab', 'citi housing society, gujranwala, punjab', 'citi housing, faisalabad, punjab', 'citi housing, multan, punjab', 'college road, lahore, punjab', 'd-12, islamabad, islamabad capital', 'd-17, islamabad, islamabad capital', 'dc colony, gujranwala, punjab', 'defence road, lahore, punjab', 'defence road, rawalpindi, punjab', 'dha 11 rahbar, lahore, punjab', 'dha defence, bahawalpur, punjab', 'dha defence, gujranwala, punjab', 'dha defence, islamabad, islamabad capital', 'dha defence, lahore, punjab', 'dha defence, multan, punjab', 'dha defence, peshawar, khyber pakhtunkhwa', 'dhamyal road, rawalpindi, punjab', 'divine gardens, lahore, punjab', 'dream avenue lahore, lahore, punjab', 'e-11, islamabad, islamabad capital', 'e-16, islamabad, islamabad capital', 'e-18, islamabad, islamabad capital', 'e-7, islamabad, islamabad capital', 'eden gardens, faisalabad, punjab', 'eden orchard, faisalabad, punjab', 'eden valley, faisalabad, punjab', 'eden, lahore, punjab', 'emaar canyon views, islamabad, islamabad capital', 'eme society, lahore, punjab', 'eminabad more, gujranwala, punjab', 'f-10, islamabad, islamabad capital', 'f-11, islamabad, islamabad capital', 'f-15, islamabad, islamabad capital', 'f-17, islamabad, islamabad capital', 'f-6, islamabad, islamabad capital', 'f-7, islamabad, islamabad capital', 'f-8, islamabad, islamabad capital', 'faisal colony, rawalpindi, punjab', 'faisal town - f-18, islamabad, islamabad capital', 'faisal town, lahore, punjab', 'farid town, sahiwal, punjab', 'fazaia housing scheme, lahore, punjab', 'fechs, islamabad, islamabad capital', 'ferozepur road, lahore, punjab', 'formanites housing scheme, lahore, punjab', 'four season housing, faisalabad, punjab', 'g-10, islamabad, islamabad capital', 'g-11, islamabad, islamabad capital', 'g-13, islamabad, islamabad capital', 'g-14, islamabad, islamabad capital', 'g-15, islamabad, islamabad capital', 'g-16, islamabad, islamabad capital', 'g-6, islamabad, islamabad capital', 'g-7, islamabad, islamabad capital', 'g-8, islamabad, islamabad capital', 'g-9, islamabad, islamabad capital', 'garden town, gujranwala, punjab', 'garden town, lahore, punjab', 'garden town, multan, punjab', 'ghalib city, faisalabad, punjab', 'ghauri town, islamabad, islamabad capital', 'ghous garden, lahore, punjab', 'green city, lahore, punjab', 'green town, faisalabad, punjab', 'gt road, gujrat, punjab', 'gt road, lahore, punjab', 'gulberg, islamabad, islamabad capital', 'gulberg, lahore, punjab', 'gulgasht colony, multan, punjab', 'gulistan colony, rawalpindi, punjab', 'gulraiz housing scheme, rawalpindi, punjab', 'gulshan abad, rawalpindi, punjab', 'gulshan-e-iqbal, rawalpindi, punjab', 'gulshan-e-lahore, lahore, punjab', 'gulshan-e-ravi, lahore, punjab', 'h-13, islamabad, islamabad capital', 'habibullah colony, abbottabad, khyber pakhtunkhwa', 'hamza town, lahore, punjab', 'harbanspura, lahore, punjab', 'hayatabad, peshawar, khyber pakhtunkhwa', 'hbfc housing society, lahore, punjab', 'i-10, islamabad, islamabad capital', 'i-11, islamabad, islamabad capital', 'i-14, islamabad, islamabad capital', 'i-8, islamabad, islamabad capital', 'i-9, islamabad, islamabad capital', 'ibl housing scheme, lahore, punjab', 'iep engineers town, lahore, punjab', 'islamabad highway, rawalpindi, punjab', 'izmir town, lahore, punjab', 'jaranwala road, faisalabad, punjab', 'jeewan city housing scheme, sahiwal, punjab', 'jhangi wala road, bahawalpur, punjab', 'jinnahabad, abbottabad, khyber pakhtunkhwa', 'johar town, lahore, punjab', 'jubilee town, lahore, punjab', 'judicial colony, lahore, punjab', 'kahna, lahore, punjab', 'kashmir highway, islamabad, islamabad capital', 'kda scheme 1, karachi, sindh', 'khan village, multan, punjab', 'khanna pul, islamabad, islamabad capital', 'khayaban colony 2, faisalabad, punjab', 'khayaban gardens, faisalabad, punjab', 'khayaban-e-amin, lahore, punjab', 'korang town, islamabad, islamabad capital', 'kuri road, islamabad, islamabad capital', 'lahore - islamabad motorway, lahore, punjab', 'lahore medical housing society, lahore, punjab', 'lahore motorway city, lahore, punjab', 'lalazaar garden, lahore, punjab', 'lalazar 2, rawalpindi, punjab', 'lda avenue, lahore, punjab', 'lehtarar road, islamabad, islamabad capital', 'lower canal road, faisalabad, punjab', 'madina town, faisalabad, punjab', 'main canal bank road, lahore, punjab', 'main mansehra road, abbottabad, khyber pakhtunkhwa', 'marghzar officers colony, lahore, punjab', 'master city housing scheme, gujranwala, punjab', 'media town, rawalpindi, punjab', 'military accounts housing society, lahore, punjab', 'millat road, faisalabad, punjab', 'misryal road, rawalpindi, punjab', 'model town, lahore, punjab', 'model town, multan, punjab', 'multan public school road, multan, punjab', 'multan road, lahore, punjab', 'mumtaz city, islamabad, islamabad capital', 'murree expressway, murree, punjab', 'nasheman colony, multan, punjab', 'nasheman-e-iqbal, lahore, punjab', 'national police foundation o-9, islamabad, islamabad capital', 'naval anchorage, islamabad, islamabad capital', 'nawab town, lahore, punjab', 'new lahore city, lahore, punjab', 'new lalazar, rawalpindi, punjab', 'new shalimar colony, multan, punjab', 'new super town, lahore, punjab', 'nfc 1, lahore, punjab', 'north nazimabad, karachi, sindh', 'northern bypass, multan, punjab', 'opf housing scheme, lahore, punjab', 'other', 'pak arab housing society, lahore, punjab', 'pakistan town, islamabad, islamabad capital', 'palm city housing scheme, gujranwala, punjab', 'paragon city, lahore, punjab', 'park avenue housing scheme, lahore, punjab', 'park view city, islamabad, islamabad capital', 'park view city, lahore, punjab', 'pcsir housing scheme, lahore, punjab', 'peshawar road, rawalpindi, punjab', 'pia housing scheme, lahore, punjab', 'pine avenue, lahore, punjab', 'punjab coop housing society, lahore, punjab', 'punjab government servant housing foundation (pgshf), rawalpindi, punjab', 'punjab govt employees society, lahore, punjab', 'punjab govt servants housing foundation, faisalabad, punjab', 'punjab small industries colony, lahore, punjab', 'punjab university employees society, lahore, punjab', 'purana shujabad road, multan, punjab', 'pwd housing scheme, islamabad, islamabad capital', 'raiwind road, lahore, punjab', 'range road, rawalpindi, punjab', 'regi model town, peshawar, khyber pakhtunkhwa', 'rehan garden, lahore, punjab', 'revenue society, lahore, punjab', 'sabzazar scheme, lahore, punjab', 'saeed colony, faisalabad, punjab', 'samanabad, lahore, punjab', 'samarzar housing society, rawalpindi, punjab', 'samundari road, faisalabad, punjab', 'satellite town, rawalpindi, punjab', 'satiana road, faisalabad, punjab', 'shadab garden, lahore, punjab', 'shadman colony, gujrat, punjab', 'shah allah ditta, islamabad, islamabad capital', 'shah rukn-e-alam colony, multan, punjab', 'shalimar colony, multan, punjab', 'shalley valley, rawalpindi, punjab', 'sheraz town, lahore, punjab', 'sialkot bypass, gujranwala, punjab', 'soan garden, islamabad, islamabad capital', 'state life housing society, lahore, punjab', 'sui gas housing society, lahore, punjab', 'taj bagh scheme, lahore, punjab', 'taj residencia, rawalpindi, punjab', 'tajpura, lahore, punjab', 'taramrri, islamabad, islamabad capital', 'tariq gardens, lahore, punjab', 'tarnol, islamabad, islamabad capital', 'thokar niaz baig, lahore, punjab', 'tip housing society, lahore, punjab', 'top city 1, islamabad, islamabad capital', 'township, lahore, punjab', 'uet housing society, lahore, punjab', 'university town, islamabad, islamabad capital', 'valencia housing society, lahore, punjab', 'venus housing scheme, lahore, punjab', 'vital homes housing scheme, lahore, punjab', 'walton road, lahore, punjab', 'wapda city, faisalabad, punjab', 'wapda town, gujranwala, punjab', 'wapda town, lahore, punjab', 'wapda town, multan, punjab', 'warsak road, peshawar, khyber pakhtunkhwa', 'wazir town, rawalpindi, punjab', 'westridge, rawalpindi, punjab', 'zakariya town, multan, punjab', 'zaraj housing scheme, islamabad, islamabad capital']\n"
          ]
        },
        {
          "name": "stderr",
          "output_type": "stream",
          "text": [
            "INFO:werkzeug:127.0.0.1 - - [15/Apr/2025 05:54:26] \"\u001b[36mGET / HTTP/1.1\u001b[0m\" 304 -\n",
            "INFO:werkzeug:127.0.0.1 - - [15/Apr/2025 05:54:27] \"GET /app.css HTTP/1.1\" 200 -\n",
            "INFO:werkzeug:127.0.0.1 - - [15/Apr/2025 05:54:27] \"\u001b[36mGET /app.js HTTP/1.1\u001b[0m\" 304 -\n",
            "INFO:werkzeug:127.0.0.1 - - [15/Apr/2025 05:54:28] \"GET /get_location_names HTTP/1.1\" 200 -\n"
          ]
        },
        {
          "name": "stdout",
          "output_type": "stream",
          "text": [
            "Locations loaded: ['abdalians cooperative housing society, lahore, punjab', 'adiala road, rawalpindi, punjab', 'afshan colony, rawalpindi, punjab', 'airport enclave, islamabad, islamabad capital', 'airport housing society, rawalpindi, punjab', 'airport road, lahore, punjab', 'al jalil garden, lahore, punjab', 'al noor garden, faisalabad, punjab', 'al razzaq royals, sahiwal, punjab', 'al rehman garden, lahore, punjab', 'alfalah town, lahore, punjab', 'allama iqbal town, lahore, punjab', 'architects engineers housing society, lahore, punjab', 'askari 10, rawalpindi, punjab', 'askari 13, rawalpindi, punjab', 'askari 14, rawalpindi, punjab', 'askari 6, peshawar, khyber pakhtunkhwa', 'askari bypass, multan, punjab', 'askari, lahore, punjab', 'audit & accounts housing society, lahore, punjab', 'b-17, islamabad, islamabad capital', 'bahadurpur, multan, punjab', 'bahria nasheman, lahore, punjab', 'bahria orchard, lahore, punjab', 'bahria town rawalpindi, rawalpindi, punjab', 'bahria town, islamabad, islamabad capital', 'bahria town, lahore, punjab', 'bani gala, islamabad, islamabad capital', 'bankers avenue cooperative housing society, lahore, punjab', 'bankers co-operative housing society, lahore, punjab', 'beacon house society, lahore, punjab', 'bedian road, lahore, punjab', 'bhara kahu, islamabad, islamabad capital', 'bosan road, multan, punjab', 'buch executive villas, multan, punjab', 'c-18, islamabad, islamabad capital', 'caltex road, rawalpindi, punjab', 'canal bank housing scheme, lahore, punjab', 'canal garden, lahore, punjab', 'canal road, faisalabad, punjab', 'canal road, rahim yar khan, punjab', 'canal view housing scheme, gujranwala, punjab', 'cantt, lahore, punjab', 'cavalry extension, lahore, punjab', 'cavalry ground, lahore, punjab', 'cbr town, islamabad, islamabad capital', 'central park housing scheme, lahore, punjab', 'chaklala scheme, rawalpindi, punjab', 'chakri road, rawalpindi, punjab', 'chatha bakhtawar, islamabad, islamabad capital', 'chinar bagh, lahore, punjab', 'chungi amar sadhu, lahore, punjab', 'citi housing scheme, jhelum, punjab', 'citi housing society, gujranwala, punjab', 'citi housing, faisalabad, punjab', 'citi housing, multan, punjab', 'college road, lahore, punjab', 'd-12, islamabad, islamabad capital', 'd-17, islamabad, islamabad capital', 'dc colony, gujranwala, punjab', 'defence road, lahore, punjab', 'defence road, rawalpindi, punjab', 'dha 11 rahbar, lahore, punjab', 'dha defence, bahawalpur, punjab', 'dha defence, gujranwala, punjab', 'dha defence, islamabad, islamabad capital', 'dha defence, lahore, punjab', 'dha defence, multan, punjab', 'dha defence, peshawar, khyber pakhtunkhwa', 'dhamyal road, rawalpindi, punjab', 'divine gardens, lahore, punjab', 'dream avenue lahore, lahore, punjab', 'e-11, islamabad, islamabad capital', 'e-16, islamabad, islamabad capital', 'e-18, islamabad, islamabad capital', 'e-7, islamabad, islamabad capital', 'eden gardens, faisalabad, punjab', 'eden orchard, faisalabad, punjab', 'eden valley, faisalabad, punjab', 'eden, lahore, punjab', 'emaar canyon views, islamabad, islamabad capital', 'eme society, lahore, punjab', 'eminabad more, gujranwala, punjab', 'f-10, islamabad, islamabad capital', 'f-11, islamabad, islamabad capital', 'f-15, islamabad, islamabad capital', 'f-17, islamabad, islamabad capital', 'f-6, islamabad, islamabad capital', 'f-7, islamabad, islamabad capital', 'f-8, islamabad, islamabad capital', 'faisal colony, rawalpindi, punjab', 'faisal town - f-18, islamabad, islamabad capital', 'faisal town, lahore, punjab', 'farid town, sahiwal, punjab', 'fazaia housing scheme, lahore, punjab', 'fechs, islamabad, islamabad capital', 'ferozepur road, lahore, punjab', 'formanites housing scheme, lahore, punjab', 'four season housing, faisalabad, punjab', 'g-10, islamabad, islamabad capital', 'g-11, islamabad, islamabad capital', 'g-13, islamabad, islamabad capital', 'g-14, islamabad, islamabad capital', 'g-15, islamabad, islamabad capital', 'g-16, islamabad, islamabad capital', 'g-6, islamabad, islamabad capital', 'g-7, islamabad, islamabad capital', 'g-8, islamabad, islamabad capital', 'g-9, islamabad, islamabad capital', 'garden town, gujranwala, punjab', 'garden town, lahore, punjab', 'garden town, multan, punjab', 'ghalib city, faisalabad, punjab', 'ghauri town, islamabad, islamabad capital', 'ghous garden, lahore, punjab', 'green city, lahore, punjab', 'green town, faisalabad, punjab', 'gt road, gujrat, punjab', 'gt road, lahore, punjab', 'gulberg, islamabad, islamabad capital', 'gulberg, lahore, punjab', 'gulgasht colony, multan, punjab', 'gulistan colony, rawalpindi, punjab', 'gulraiz housing scheme, rawalpindi, punjab', 'gulshan abad, rawalpindi, punjab', 'gulshan-e-iqbal, rawalpindi, punjab', 'gulshan-e-lahore, lahore, punjab', 'gulshan-e-ravi, lahore, punjab', 'h-13, islamabad, islamabad capital', 'habibullah colony, abbottabad, khyber pakhtunkhwa', 'hamza town, lahore, punjab', 'harbanspura, lahore, punjab', 'hayatabad, peshawar, khyber pakhtunkhwa', 'hbfc housing society, lahore, punjab', 'i-10, islamabad, islamabad capital', 'i-11, islamabad, islamabad capital', 'i-14, islamabad, islamabad capital', 'i-8, islamabad, islamabad capital', 'i-9, islamabad, islamabad capital', 'ibl housing scheme, lahore, punjab', 'iep engineers town, lahore, punjab', 'islamabad highway, rawalpindi, punjab', 'izmir town, lahore, punjab', 'jaranwala road, faisalabad, punjab', 'jeewan city housing scheme, sahiwal, punjab', 'jhangi wala road, bahawalpur, punjab', 'jinnahabad, abbottabad, khyber pakhtunkhwa', 'johar town, lahore, punjab', 'jubilee town, lahore, punjab', 'judicial colony, lahore, punjab', 'kahna, lahore, punjab', 'kashmir highway, islamabad, islamabad capital', 'kda scheme 1, karachi, sindh', 'khan village, multan, punjab', 'khanna pul, islamabad, islamabad capital', 'khayaban colony 2, faisalabad, punjab', 'khayaban gardens, faisalabad, punjab', 'khayaban-e-amin, lahore, punjab', 'korang town, islamabad, islamabad capital', 'kuri road, islamabad, islamabad capital', 'lahore - islamabad motorway, lahore, punjab', 'lahore medical housing society, lahore, punjab', 'lahore motorway city, lahore, punjab', 'lalazaar garden, lahore, punjab', 'lalazar 2, rawalpindi, punjab', 'lda avenue, lahore, punjab', 'lehtarar road, islamabad, islamabad capital', 'lower canal road, faisalabad, punjab', 'madina town, faisalabad, punjab', 'main canal bank road, lahore, punjab', 'main mansehra road, abbottabad, khyber pakhtunkhwa', 'marghzar officers colony, lahore, punjab', 'master city housing scheme, gujranwala, punjab', 'media town, rawalpindi, punjab', 'military accounts housing society, lahore, punjab', 'millat road, faisalabad, punjab', 'misryal road, rawalpindi, punjab', 'model town, lahore, punjab', 'model town, multan, punjab', 'multan public school road, multan, punjab', 'multan road, lahore, punjab', 'mumtaz city, islamabad, islamabad capital', 'murree expressway, murree, punjab', 'nasheman colony, multan, punjab', 'nasheman-e-iqbal, lahore, punjab', 'national police foundation o-9, islamabad, islamabad capital', 'naval anchorage, islamabad, islamabad capital', 'nawab town, lahore, punjab', 'new lahore city, lahore, punjab', 'new lalazar, rawalpindi, punjab', 'new shalimar colony, multan, punjab', 'new super town, lahore, punjab', 'nfc 1, lahore, punjab', 'north nazimabad, karachi, sindh', 'northern bypass, multan, punjab', 'opf housing scheme, lahore, punjab', 'other', 'pak arab housing society, lahore, punjab', 'pakistan town, islamabad, islamabad capital', 'palm city housing scheme, gujranwala, punjab', 'paragon city, lahore, punjab', 'park avenue housing scheme, lahore, punjab', 'park view city, islamabad, islamabad capital', 'park view city, lahore, punjab', 'pcsir housing scheme, lahore, punjab', 'peshawar road, rawalpindi, punjab', 'pia housing scheme, lahore, punjab', 'pine avenue, lahore, punjab', 'punjab coop housing society, lahore, punjab', 'punjab government servant housing foundation (pgshf), rawalpindi, punjab', 'punjab govt employees society, lahore, punjab', 'punjab govt servants housing foundation, faisalabad, punjab', 'punjab small industries colony, lahore, punjab', 'punjab university employees society, lahore, punjab', 'purana shujabad road, multan, punjab', 'pwd housing scheme, islamabad, islamabad capital', 'raiwind road, lahore, punjab', 'range road, rawalpindi, punjab', 'regi model town, peshawar, khyber pakhtunkhwa', 'rehan garden, lahore, punjab', 'revenue society, lahore, punjab', 'sabzazar scheme, lahore, punjab', 'saeed colony, faisalabad, punjab', 'samanabad, lahore, punjab', 'samarzar housing society, rawalpindi, punjab', 'samundari road, faisalabad, punjab', 'satellite town, rawalpindi, punjab', 'satiana road, faisalabad, punjab', 'shadab garden, lahore, punjab', 'shadman colony, gujrat, punjab', 'shah allah ditta, islamabad, islamabad capital', 'shah rukn-e-alam colony, multan, punjab', 'shalimar colony, multan, punjab', 'shalley valley, rawalpindi, punjab', 'sheraz town, lahore, punjab', 'sialkot bypass, gujranwala, punjab', 'soan garden, islamabad, islamabad capital', 'state life housing society, lahore, punjab', 'sui gas housing society, lahore, punjab', 'taj bagh scheme, lahore, punjab', 'taj residencia, rawalpindi, punjab', 'tajpura, lahore, punjab', 'taramrri, islamabad, islamabad capital', 'tariq gardens, lahore, punjab', 'tarnol, islamabad, islamabad capital', 'thokar niaz baig, lahore, punjab', 'tip housing society, lahore, punjab', 'top city 1, islamabad, islamabad capital', 'township, lahore, punjab', 'uet housing society, lahore, punjab', 'university town, islamabad, islamabad capital', 'valencia housing society, lahore, punjab', 'venus housing scheme, lahore, punjab', 'vital homes housing scheme, lahore, punjab', 'walton road, lahore, punjab', 'wapda city, faisalabad, punjab', 'wapda town, gujranwala, punjab', 'wapda town, lahore, punjab', 'wapda town, multan, punjab', 'warsak road, peshawar, khyber pakhtunkhwa', 'wazir town, rawalpindi, punjab', 'westridge, rawalpindi, punjab', 'zakariya town, multan, punjab', 'zaraj housing scheme, islamabad, islamabad capital']\n"
          ]
        },
        {
          "name": "stderr",
          "output_type": "stream",
          "text": [
            "ERROR:__main__:Exception on /predict_home_price [POST]\n",
            "Traceback (most recent call last):\n",
            "  File \"/usr/local/lib/python3.11/dist-packages/flask/app.py\", line 1511, in wsgi_app\n",
            "    response = self.full_dispatch_request()\n",
            "               ^^^^^^^^^^^^^^^^^^^^^^^^^^^^\n",
            "  File \"/usr/local/lib/python3.11/dist-packages/flask/app.py\", line 919, in full_dispatch_request\n",
            "    rv = self.handle_user_exception(e)\n",
            "         ^^^^^^^^^^^^^^^^^^^^^^^^^^^^^\n",
            "  File \"/usr/local/lib/python3.11/dist-packages/flask/app.py\", line 917, in full_dispatch_request\n",
            "    rv = self.dispatch_request()\n",
            "         ^^^^^^^^^^^^^^^^^^^^^^^\n",
            "  File \"/usr/local/lib/python3.11/dist-packages/flask/app.py\", line 902, in dispatch_request\n",
            "    return self.ensure_sync(self.view_functions[rule.endpoint])(**view_args)  # type: ignore[no-any-return]\n",
            "           ^^^^^^^^^^^^^^^^^^^^^^^^^^^^^^^^^^^^^^^^^^^^^^^^^^^^^^^^^^^^^^^^^\n",
            "  File \"<ipython-input-54-87f551445494>\", line 38, in predict_home_price\n",
            "    'estimated_price': predict_price(location,bedroom,bath,total_sqft)\n",
            "                       ^^^^^^^^^^^^^^^^^^^^^^^^^^^^^^^^^^^^^^^^^^^^^^^\n",
            "  File \"<ipython-input-45-209986755682>\", line 2, in predict_price\n",
            "    loc_index=np.where(x.columns==location)[0][0]\n",
            "              ~~~~~~~~~~~~~~~~~~~~~~~~~~~~~~~~^^^\n",
            "IndexError: index 0 is out of bounds for axis 0 with size 0\n",
            "INFO:werkzeug:127.0.0.1 - - [15/Apr/2025 05:54:30] \"\u001b[35m\u001b[1mPOST /predict_home_price HTTP/1.1\u001b[0m\" 500 -\n",
            "/usr/local/lib/python3.11/dist-packages/sklearn/utils/validation.py:2739: UserWarning: X does not have valid feature names, but RandomForestRegressor was fitted with feature names\n",
            "  warnings.warn(\n",
            "INFO:werkzeug:127.0.0.1 - - [15/Apr/2025 05:54:33] \"POST /predict_home_price HTTP/1.1\" 200 -\n",
            "/usr/local/lib/python3.11/dist-packages/sklearn/utils/validation.py:2739: UserWarning: X does not have valid feature names, but RandomForestRegressor was fitted with feature names\n",
            "  warnings.warn(\n",
            "INFO:werkzeug:127.0.0.1 - - [15/Apr/2025 05:55:33] \"POST /predict_home_price HTTP/1.1\" 200 -\n",
            "/usr/local/lib/python3.11/dist-packages/sklearn/utils/validation.py:2739: UserWarning: X does not have valid feature names, but RandomForestRegressor was fitted with feature names\n",
            "  warnings.warn(\n",
            "INFO:werkzeug:127.0.0.1 - - [15/Apr/2025 05:55:38] \"POST /predict_home_price HTTP/1.1\" 200 -\n",
            "/usr/local/lib/python3.11/dist-packages/sklearn/utils/validation.py:2739: UserWarning: X does not have valid feature names, but RandomForestRegressor was fitted with feature names\n",
            "  warnings.warn(\n",
            "INFO:werkzeug:127.0.0.1 - - [15/Apr/2025 05:55:55] \"POST /predict_home_price HTTP/1.1\" 200 -\n",
            "/usr/local/lib/python3.11/dist-packages/sklearn/utils/validation.py:2739: UserWarning: X does not have valid feature names, but RandomForestRegressor was fitted with feature names\n",
            "  warnings.warn(\n",
            "INFO:werkzeug:127.0.0.1 - - [15/Apr/2025 06:06:04] \"POST /predict_home_price HTTP/1.1\" 200 -\n",
            "/usr/local/lib/python3.11/dist-packages/sklearn/utils/validation.py:2739: UserWarning: X does not have valid feature names, but RandomForestRegressor was fitted with feature names\n",
            "  warnings.warn(\n",
            "INFO:werkzeug:127.0.0.1 - - [15/Apr/2025 06:06:07] \"POST /predict_home_price HTTP/1.1\" 200 -\n",
            "/usr/local/lib/python3.11/dist-packages/sklearn/utils/validation.py:2739: UserWarning: X does not have valid feature names, but RandomForestRegressor was fitted with feature names\n",
            "  warnings.warn(\n",
            "INFO:werkzeug:127.0.0.1 - - [15/Apr/2025 06:06:13] \"POST /predict_home_price HTTP/1.1\" 200 -\n",
            "/usr/local/lib/python3.11/dist-packages/sklearn/utils/validation.py:2739: UserWarning: X does not have valid feature names, but RandomForestRegressor was fitted with feature names\n",
            "  warnings.warn(\n",
            "INFO:werkzeug:127.0.0.1 - - [15/Apr/2025 06:06:16] \"POST /predict_home_price HTTP/1.1\" 200 -\n",
            "/usr/local/lib/python3.11/dist-packages/sklearn/utils/validation.py:2739: UserWarning: X does not have valid feature names, but RandomForestRegressor was fitted with feature names\n",
            "  warnings.warn(\n",
            "INFO:werkzeug:127.0.0.1 - - [15/Apr/2025 06:06:23] \"POST /predict_home_price HTTP/1.1\" 200 -\n",
            "/usr/local/lib/python3.11/dist-packages/sklearn/utils/validation.py:2739: UserWarning: X does not have valid feature names, but RandomForestRegressor was fitted with feature names\n",
            "  warnings.warn(\n",
            "INFO:werkzeug:127.0.0.1 - - [15/Apr/2025 06:06:29] \"POST /predict_home_price HTTP/1.1\" 200 -\n",
            "/usr/local/lib/python3.11/dist-packages/sklearn/utils/validation.py:2739: UserWarning: X does not have valid feature names, but RandomForestRegressor was fitted with feature names\n",
            "  warnings.warn(\n",
            "INFO:werkzeug:127.0.0.1 - - [15/Apr/2025 06:06:34] \"POST /predict_home_price HTTP/1.1\" 200 -\n",
            "/usr/local/lib/python3.11/dist-packages/sklearn/utils/validation.py:2739: UserWarning: X does not have valid feature names, but RandomForestRegressor was fitted with feature names\n",
            "  warnings.warn(\n",
            "INFO:werkzeug:127.0.0.1 - - [15/Apr/2025 06:06:40] \"POST /predict_home_price HTTP/1.1\" 200 -\n",
            "/usr/local/lib/python3.11/dist-packages/sklearn/utils/validation.py:2739: UserWarning: X does not have valid feature names, but RandomForestRegressor was fitted with feature names\n",
            "  warnings.warn(\n",
            "INFO:werkzeug:127.0.0.1 - - [15/Apr/2025 06:07:32] \"POST /predict_home_price HTTP/1.1\" 200 -\n",
            "/usr/local/lib/python3.11/dist-packages/sklearn/utils/validation.py:2739: UserWarning: X does not have valid feature names, but RandomForestRegressor was fitted with feature names\n",
            "  warnings.warn(\n",
            "INFO:werkzeug:127.0.0.1 - - [15/Apr/2025 06:21:29] \"POST /predict_home_price HTTP/1.1\" 200 -\n",
            "/usr/local/lib/python3.11/dist-packages/sklearn/utils/validation.py:2739: UserWarning: X does not have valid feature names, but RandomForestRegressor was fitted with feature names\n",
            "  warnings.warn(\n",
            "INFO:werkzeug:127.0.0.1 - - [15/Apr/2025 06:21:30] \"POST /predict_home_price HTTP/1.1\" 200 -\n",
            "/usr/local/lib/python3.11/dist-packages/sklearn/utils/validation.py:2739: UserWarning: X does not have valid feature names, but RandomForestRegressor was fitted with feature names\n",
            "  warnings.warn(\n",
            "INFO:werkzeug:127.0.0.1 - - [15/Apr/2025 06:21:37] \"POST /predict_home_price HTTP/1.1\" 200 -\n",
            "/usr/local/lib/python3.11/dist-packages/sklearn/utils/validation.py:2739: UserWarning: X does not have valid feature names, but RandomForestRegressor was fitted with feature names\n",
            "  warnings.warn(\n",
            "INFO:werkzeug:127.0.0.1 - - [15/Apr/2025 06:29:21] \"POST /predict_home_price HTTP/1.1\" 200 -\n",
            "/usr/local/lib/python3.11/dist-packages/sklearn/utils/validation.py:2739: UserWarning: X does not have valid feature names, but RandomForestRegressor was fitted with feature names\n",
            "  warnings.warn(\n",
            "INFO:werkzeug:127.0.0.1 - - [15/Apr/2025 06:29:29] \"POST /predict_home_price HTTP/1.1\" 200 -\n",
            "/usr/local/lib/python3.11/dist-packages/sklearn/utils/validation.py:2739: UserWarning: X does not have valid feature names, but RandomForestRegressor was fitted with feature names\n",
            "  warnings.warn(\n",
            "INFO:werkzeug:127.0.0.1 - - [15/Apr/2025 06:29:34] \"POST /predict_home_price HTTP/1.1\" 200 -\n",
            "/usr/local/lib/python3.11/dist-packages/sklearn/utils/validation.py:2739: UserWarning: X does not have valid feature names, but RandomForestRegressor was fitted with feature names\n",
            "  warnings.warn(\n",
            "INFO:werkzeug:127.0.0.1 - - [15/Apr/2025 06:48:34] \"POST /predict_home_price HTTP/1.1\" 200 -\n",
            "/usr/local/lib/python3.11/dist-packages/sklearn/utils/validation.py:2739: UserWarning: X does not have valid feature names, but RandomForestRegressor was fitted with feature names\n",
            "  warnings.warn(\n",
            "INFO:werkzeug:127.0.0.1 - - [15/Apr/2025 06:49:18] \"POST /predict_home_price HTTP/1.1\" 200 -\n",
            "/usr/local/lib/python3.11/dist-packages/sklearn/utils/validation.py:2739: UserWarning: X does not have valid feature names, but RandomForestRegressor was fitted with feature names\n",
            "  warnings.warn(\n",
            "INFO:werkzeug:127.0.0.1 - - [15/Apr/2025 07:02:29] \"POST /predict_home_price HTTP/1.1\" 200 -\n",
            "/usr/local/lib/python3.11/dist-packages/sklearn/utils/validation.py:2739: UserWarning: X does not have valid feature names, but RandomForestRegressor was fitted with feature names\n",
            "  warnings.warn(\n",
            "INFO:werkzeug:127.0.0.1 - - [15/Apr/2025 07:02:30] \"POST /predict_home_price HTTP/1.1\" 200 -\n",
            "/usr/local/lib/python3.11/dist-packages/sklearn/utils/validation.py:2739: UserWarning: X does not have valid feature names, but RandomForestRegressor was fitted with feature names\n",
            "  warnings.warn(\n",
            "INFO:werkzeug:127.0.0.1 - - [15/Apr/2025 07:02:39] \"POST /predict_home_price HTTP/1.1\" 200 -\n",
            "/usr/local/lib/python3.11/dist-packages/sklearn/utils/validation.py:2739: UserWarning: X does not have valid feature names, but RandomForestRegressor was fitted with feature names\n",
            "  warnings.warn(\n",
            "INFO:werkzeug:127.0.0.1 - - [15/Apr/2025 07:23:40] \"POST /predict_home_price HTTP/1.1\" 200 -\n",
            "/usr/local/lib/python3.11/dist-packages/sklearn/utils/validation.py:2739: UserWarning: X does not have valid feature names, but RandomForestRegressor was fitted with feature names\n",
            "  warnings.warn(\n",
            "INFO:werkzeug:127.0.0.1 - - [15/Apr/2025 07:23:42] \"POST /predict_home_price HTTP/1.1\" 200 -\n",
            "/usr/local/lib/python3.11/dist-packages/sklearn/utils/validation.py:2739: UserWarning: X does not have valid feature names, but RandomForestRegressor was fitted with feature names\n",
            "  warnings.warn(\n",
            "INFO:werkzeug:127.0.0.1 - - [15/Apr/2025 07:23:56] \"POST /predict_home_price HTTP/1.1\" 200 -\n",
            "/usr/local/lib/python3.11/dist-packages/sklearn/utils/validation.py:2739: UserWarning: X does not have valid feature names, but RandomForestRegressor was fitted with feature names\n",
            "  warnings.warn(\n",
            "INFO:werkzeug:127.0.0.1 - - [15/Apr/2025 07:28:12] \"POST /predict_home_price HTTP/1.1\" 200 -\n",
            "/usr/local/lib/python3.11/dist-packages/sklearn/utils/validation.py:2739: UserWarning: X does not have valid feature names, but RandomForestRegressor was fitted with feature names\n",
            "  warnings.warn(\n",
            "INFO:werkzeug:127.0.0.1 - - [15/Apr/2025 07:28:13] \"POST /predict_home_price HTTP/1.1\" 200 -\n",
            "/usr/local/lib/python3.11/dist-packages/sklearn/utils/validation.py:2739: UserWarning: X does not have valid feature names, but RandomForestRegressor was fitted with feature names\n",
            "  warnings.warn(\n",
            "INFO:werkzeug:127.0.0.1 - - [15/Apr/2025 07:28:15] \"POST /predict_home_price HTTP/1.1\" 200 -\n",
            "/usr/local/lib/python3.11/dist-packages/sklearn/utils/validation.py:2739: UserWarning: X does not have valid feature names, but RandomForestRegressor was fitted with feature names\n",
            "  warnings.warn(\n",
            "INFO:werkzeug:127.0.0.1 - - [15/Apr/2025 07:28:45] \"POST /predict_home_price HTTP/1.1\" 200 -\n",
            "/usr/local/lib/python3.11/dist-packages/sklearn/utils/validation.py:2739: UserWarning: X does not have valid feature names, but RandomForestRegressor was fitted with feature names\n",
            "  warnings.warn(\n",
            "INFO:werkzeug:127.0.0.1 - - [15/Apr/2025 07:29:37] \"POST /predict_home_price HTTP/1.1\" 200 -\n",
            "/usr/local/lib/python3.11/dist-packages/sklearn/utils/validation.py:2739: UserWarning: X does not have valid feature names, but RandomForestRegressor was fitted with feature names\n",
            "  warnings.warn(\n",
            "INFO:werkzeug:127.0.0.1 - - [15/Apr/2025 07:29:38] \"POST /predict_home_price HTTP/1.1\" 200 -\n",
            "/usr/local/lib/python3.11/dist-packages/sklearn/utils/validation.py:2739: UserWarning: X does not have valid feature names, but RandomForestRegressor was fitted with feature names\n",
            "  warnings.warn(\n",
            "INFO:werkzeug:127.0.0.1 - - [15/Apr/2025 07:49:40] \"POST /predict_home_price HTTP/1.1\" 200 -\n"
          ]
        }
      ],
      "source": [
        "!pip install flask_ngrok\n",
        "from flask import Flask, request, jsonify\n",
        "from flask import send_from_directory\n",
        "from flask_ngrok import run_with_ngrok\n",
        "\n",
        "app = Flask(__name__)\n",
        "public_url = ngrok.connect(5000).public_url\n",
        "print(f\" * ngrok tunnel \\\"{public_url}\\\" -> \\\"http://127.0.0.1:5000\\\"\")\n",
        "\n",
        "# run_with_ngrok(app)\n",
        "@app.route('/',methods=['GET'])\n",
        "def open_home_page():\n",
        "  return send_from_directory(\"/content/client/\", \"app.html\")\n",
        "\n",
        "@app.route('/<path:filename>')\n",
        "def serve_static_file(filename):\n",
        "    return send_from_directory(\"/content/client/\", filename)\n",
        "\n",
        "\n",
        "@app.route('/get_location_names',methods=['GET'])\n",
        "def get_location_names_route():\n",
        "    response = jsonify({\n",
        "        'locations': get_location_names()\n",
        "    })\n",
        "    response.headers.add('Access-Control-Allow-Origin', '*')\n",
        "\n",
        "    return response\n",
        "\n",
        "@app.route('/predict_home_price', methods=['GET','POST'])\n",
        "def predict_home_price():\n",
        "    total_sqft = float(request.form['total_sqft'])\n",
        "    location = request.form['location']\n",
        "    bedroom = int(request.form['bedroom'])\n",
        "    bath = int(request.form['bath'])\n",
        "\n",
        "\n",
        "    response = jsonify({\n",
        "        'estimated_price': predict_price(location,bedroom,bath,total_sqft)\n",
        "    })\n",
        "\n",
        "    response.headers.add('Access-Control-Allow-Origin', '*')\n",
        "\n",
        "    return response\n",
        "\n",
        "\n",
        "# @app.route('/distribute_inheritance', methods=['POST'])\n",
        "# def calculate():\n",
        "#     house_price = int(request.form['InheritancePrice'])\n",
        "#     sons = int(request.form['sons'])\n",
        "#     daughters = int(request.form['daughters'])\n",
        "#     sisters = int(request.form['sisters'])\n",
        "#     brothers = int(request.form['brothers'])\n",
        "#     wives = int(request.form['wives'])\n",
        "#     husband = request.form['husband'] == \"yes\"\n",
        "#     mother = request.form['mother'] == \"yes\"\n",
        "#     father = request.form['father'] == \"yes\"\n",
        "\n",
        "#     response = jsonify({\n",
        "#         'Inheritance': util.distribute_inheritance(house_price,sons,daughters,brothers,sisters,husband,wives,father,mother)\n",
        "#     })\n",
        "#     response.headers.add('Access-Control-Allow-Origin', '*')\n",
        "\n",
        "#     return response\n",
        "\n",
        "if __name__ == \"__main__\":\n",
        "    print(\"Starting Python Flask Server For Home Price Prediction...\")\n",
        "    load_saved_artifacts()\n",
        "    app.run()"
      ]
    }
  ],
  "metadata": {
    "colab": {
      "provenance": []
    },
    "kernelspec": {
      "display_name": "Python 3",
      "name": "python3"
    },
    "language_info": {
      "name": "python"
    }
  },
  "nbformat": 4,
  "nbformat_minor": 0
}